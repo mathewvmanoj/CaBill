{
 "cells": [
  {
   "cell_type": "code",
   "id": "initial_id",
   "metadata": {
    "collapsed": true,
    "ExecuteTime": {
     "end_time": "2025-02-04T17:30:26.319550Z",
     "start_time": "2025-02-04T17:25:58.003885Z"
    }
   },
   "source": [
    "from transformers import AutoTokenizer, AutoModelForCausalLM\n",
    "import json\n",
    "import torch\n",
    "\n",
    "model_name = \"TinyLlama/TinyLlama-1.1B-Chat-v1.0\"\n",
    "tokenizer = AutoTokenizer.from_pretrained(model_name)\n",
    "model = AutoModelForCausalLM.from_pretrained(\n",
    "    model_name,\n",
    "    torch_dtype=torch.float16,\n",
    "    device_map=\"mps\"\n",
    ")\n",
    "\n",
    "def generate_mongo_query(query):\n",
    "    prompt = \"\"\"<|system|>You convert natural language to MongoDB queries.\n",
    "<|user|>Convert: Find users who are 25 years old\n",
    "<|assistant|>{ \"collection\": \"users\", \"query\": { \"age\": 25 } }\n",
    "<|user|>Convert: Find products with price over $100\n",
    "<|assistant|>{ \"collection\": \"products\", \"query\": { \"price\": { \"$gt\": 100 } } }\n",
    "<|user|>Convert: \"\"\" + query + \"\"\"\n",
    "<|assistant|>\"\"\"\n",
    "\n",
    "    inputs = tokenizer(prompt, return_tensors=\"pt\").to(\"mps\")\n",
    "\n",
    "    outputs = model.generate(\n",
    "        inputs.input_ids,\n",
    "        max_length=200,\n",
    "        temperature=0.1,\n",
    "        num_return_sequences=1\n",
    "    )\n",
    "\n",
    "    generated_text = tokenizer.decode(outputs[0], skip_special_tokens=True)\n",
    "\n",
    "    try:\n",
    "        query_start = generated_text.find(\"{\", generated_text.rfind(\"Convert:\"))\n",
    "        query_text = generated_text[query_start:].strip()\n",
    "        parsed_query = json.loads(query_text)\n",
    "        return f\"db.{parsed_query['collection']}.find({json.dumps(parsed_query['query'], indent=2)})\"\n",
    "    except Exception as e:\n",
    "        print(f\"Error: {str(e)}\\nGenerated: {generated_text}\")\n",
    "        return None\n",
    "\n",
    "# Test\n",
    "query = \"Find users where age is less than 35\"\n",
    "print(generate_mongo_query(query))"
   ],
   "outputs": [
    {
     "name": "stderr",
     "output_type": "stream",
     "text": [
      "/Users/joelraju/code/loyalist-college/AIP-project/CaBill/.venv/lib/python3.11/site-packages/transformers/generation/configuration_utils.py:628: UserWarning: `do_sample` is set to `False`. However, `temperature` is set to `0.1` -- this flag is only used in sample-based generation modes. You should set `do_sample=True` or unset `temperature`.\n",
      "  warnings.warn(\n"
     ]
    },
    {
     "name": "stdout",
     "output_type": "stream",
     "text": [
      "db.users.find({\n",
      "  \"age\": {\n",
      "    \"$lt\": 35\n",
      "  }\n",
      "})\n"
     ]
    }
   ],
   "execution_count": 2
  },
  {
   "metadata": {
    "ExecuteTime": {
     "end_time": "2025-02-04T17:38:01.067960Z",
     "start_time": "2025-02-04T17:37:42.712814Z"
    }
   },
   "cell_type": "code",
   "source": [
    "query = \"Find users where age is less than 35 and more than 25\"\n",
    "print(generate_mongo_query(query))"
   ],
   "id": "92944ad159048082",
   "outputs": [
    {
     "name": "stdout",
     "output_type": "stream",
     "text": [
      "db.users.find({\n",
      "  \"age\": {\n",
      "    \"$lte\": 35,\n",
      "    \"$gte\": 25\n",
      "  }\n",
      "})\n"
     ]
    }
   ],
   "execution_count": 3
  },
  {
   "metadata": {
    "ExecuteTime": {
     "end_time": "2025-02-04T17:38:54.121154Z",
     "start_time": "2025-02-04T17:38:39.187271Z"
    }
   },
   "cell_type": "code",
   "source": [
    "query = \"Find user where the number of hours worked is more than 50\"\n",
    "print(generate_mongo_query(query))"
   ],
   "id": "32c981a742cfc7b9",
   "outputs": [
    {
     "name": "stdout",
     "output_type": "stream",
     "text": [
      "db.users.find({\n",
      "  \"hoursWorked\": {\n",
      "    \"$gt\": 50\n",
      "  }\n",
      "})\n"
     ]
    }
   ],
   "execution_count": 4
  },
  {
   "metadata": {
    "ExecuteTime": {
     "end_time": "2025-02-04T17:39:04.733139Z",
     "start_time": "2025-02-04T17:39:01.565964Z"
    }
   },
   "cell_type": "code",
   "source": [
    "query = \"Find user who has worked the most number of hours\"\n",
    "print(generate_mongo_query(query))"
   ],
   "id": "437df3cef24c75f6",
   "outputs": [
    {
     "name": "stdout",
     "output_type": "stream",
     "text": [
      "db.users.find({\n",
      "  \"hours_worked\": {\n",
      "    \"$max\": \"$hours_worked\"\n",
      "  }\n",
      "})\n"
     ]
    }
   ],
   "execution_count": 5
  },
  {
   "metadata": {
    "ExecuteTime": {
     "end_time": "2025-02-04T17:44:17.231326Z",
     "start_time": "2025-02-04T17:43:56.796190Z"
    }
   },
   "cell_type": "code",
   "source": [
    "query = \"Find user where the number of hours worked is more than 50\"\n",
    "print(generate_mongo_query(query))"
   ],
   "id": "dd3d46803e1489a3",
   "outputs": [
    {
     "name": "stdout",
     "output_type": "stream",
     "text": [
      "db.users.find({\n",
      "  \"hoursWorked\": {\n",
      "    \"$gt\": 50\n",
      "  }\n",
      "})\n"
     ]
    }
   ],
   "execution_count": 6
  },
  {
   "metadata": {},
   "cell_type": "code",
   "outputs": [],
   "execution_count": null,
   "source": "",
   "id": "542354e0c64699d2"
  }
 ],
 "metadata": {
  "kernelspec": {
   "display_name": "Python 3",
   "language": "python",
   "name": "python3"
  },
  "language_info": {
   "codemirror_mode": {
    "name": "ipython",
    "version": 2
   },
   "file_extension": ".py",
   "mimetype": "text/x-python",
   "name": "python",
   "nbconvert_exporter": "python",
   "pygments_lexer": "ipython2",
   "version": "2.7.6"
  }
 },
 "nbformat": 4,
 "nbformat_minor": 5
}
